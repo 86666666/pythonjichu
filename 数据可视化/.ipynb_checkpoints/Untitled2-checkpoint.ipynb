{
 "cells": [
  {
   "cell_type": "code",
   "execution_count": 5,
   "metadata": {},
   "outputs": [
    {
     "data": {
      "text/plain": [
       "6     0\n",
       "7     1\n",
       "8     2\n",
       "9     3\n",
       "10    4\n",
       "11    5\n",
       "dtype: int64"
      ]
     },
     "execution_count": 5,
     "metadata": {},
     "output_type": "execute_result"
    }
   ],
   "source": [
    "import pandas as pd\n",
    "a=pd.Series([1,2,3,5])#从Python列表创建Series类型\n",
    "a\n",
    "b=pd.Series(range(6),index=range(6,12))#自定义index索引\n",
    "b\n",
    "\n"
   ]
  },
  {
   "cell_type": "code",
   "execution_count": 9,
   "metadata": {},
   "outputs": [
    {
     "name": "stdout",
     "output_type": "stream",
     "text": [
      "3    23\n",
      "dtype: int64\n",
      "4    23\n",
      "dtype: int64\n"
     ]
    }
   ],
   "source": [
    "s=pd.Series(23,index=(3,))#通过标量值创建Series类型\n",
    "print(s)\n",
    "s1=pd.Series(23,index=[4])\n",
    "print(s1)"
   ]
  },
  {
   "cell_type": "code",
   "execution_count": 24,
   "metadata": {},
   "outputs": [
    {
     "name": "stdout",
     "output_type": "stream",
     "text": [
      "<class 'dict'>\n",
      "wang     4\n",
      "北京      45\n",
      "南京      东京\n",
      "23      45\n",
      "dtype: object\n"
     ]
    },
    {
     "data": {
      "text/plain": [
       "45"
      ]
     },
     "execution_count": 24,
     "metadata": {},
     "output_type": "execute_result"
    }
   ],
   "source": [
    "zidian={'wang':4,'北京':45,'南京':'东京',23:45}#字典类型创建Series类型\n",
    "print(type(zidian))\n",
    "s2=pd.Series(zidian)\n",
    "print(s2)\n",
    "s2['北京']\n"
   ]
  },
  {
   "cell_type": "code",
   "execution_count": 18,
   "metadata": {},
   "outputs": [
    {
     "name": "stdout",
     "output_type": "stream",
     "text": [
      "['东京' 45 4 nan]\n",
      "Index(['南京', '北京', 'wang', 43], dtype='object', name='索引')\n",
      "索引\n"
     ]
    }
   ],
   "source": [
    "print(s2.values)\n",
    "print(s2.index)\n",
    "s2.name=4545\n",
    "s2.index.name='索引'\n",
    "s2\n"
   ]
  },
  {
   "cell_type": "code",
   "execution_count": 20,
   "metadata": {},
   "outputs": [
    {
     "name": "stdout",
     "output_type": "stream",
     "text": [
      "[ 4  6  8 10 12 14]\n"
     ]
    }
   ],
   "source": [
    "#通过numpy的ndarray一维数组构建Series类型\n",
    "import numpy as np\n",
    "s3=pd.Series(np.arange(4,16,2),index=range(1,7))\n",
    "s3\n",
    "print(np.arange(4,16,2))"
   ]
  },
  {
   "cell_type": "code",
   "execution_count": 28,
   "metadata": {},
   "outputs": [
    {
     "name": "stdout",
     "output_type": "stream",
     "text": [
      "7    7\n",
      "8    8\n",
      "9    9\n",
      "dtype: int64\n",
      "0       1.000000\n",
      "1       2.718282\n",
      "2       7.389056\n",
      "3      20.085537\n",
      "4      54.598150\n",
      "5     148.413159\n",
      "6     403.428793\n",
      "7    1096.633158\n",
      "8    2980.957987\n",
      "9    8103.083928\n",
      "dtype: float64\n"
     ]
    },
    {
     "data": {
      "text/plain": [
       "'没有23'"
      ]
     },
     "execution_count": 28,
     "metadata": {},
     "output_type": "execute_result"
    }
   ],
   "source": [
    "s4=pd.Series(range(10))\n",
    "print(s4[s4>6])#过滤操作\n",
    "print(np.exp(s4))\n",
    "s4.get(23,'没有23')"
   ]
  },
  {
   "cell_type": "code",
   "execution_count": null,
   "metadata": {},
   "outputs": [],
   "source": []
  }
 ],
 "metadata": {
  "kernelspec": {
   "display_name": "Python 3",
   "language": "python",
   "name": "python3"
  },
  "language_info": {
   "codemirror_mode": {
    "name": "ipython",
    "version": 3
   },
   "file_extension": ".py",
   "mimetype": "text/x-python",
   "name": "python",
   "nbconvert_exporter": "python",
   "pygments_lexer": "ipython3",
   "version": "3.7.6"
  }
 },
 "nbformat": 4,
 "nbformat_minor": 4
}

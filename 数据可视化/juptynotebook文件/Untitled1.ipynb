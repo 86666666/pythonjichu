{
 "cells": [
  {
   "cell_type": "code",
   "execution_count": 1,
   "metadata": {},
   "outputs": [
    {
     "name": "stdout",
     "output_type": "stream",
     "text": [
      "20     0\n",
      "21     1\n",
      "22     2\n",
      "23     3\n",
      "24     4\n",
      "25     5\n",
      "26     6\n",
      "27     7\n",
      "28     8\n",
      "29     9\n",
      "30    10\n",
      "31    11\n",
      "32    12\n",
      "33    13\n",
      "34    14\n",
      "35    15\n",
      "36    16\n",
      "37    17\n",
      "38    18\n",
      "39    19\n",
      "dtype: int64\n"
     ]
    }
   ],
   "source": [
    "import pandas as pd\n",
    "d=pd.Series(range(20),index=range(20,40))#自定义索引\n",
    "print(d)"
   ]
  },
  {
   "cell_type": "code",
   "execution_count": 8,
   "metadata": {},
   "outputs": [
    {
     "name": "stdout",
     "output_type": "stream",
     "text": [
      "4    2\n",
      "5    4\n",
      "6    5\n",
      "1    5\n",
      "dtype: int64\n"
     ]
    }
   ],
   "source": [
    "#通过元祖创建Series\n",
    "ui=pd.Series((2,4,5,5),index=(4,5,6,1))\n",
    "print(ui)\n"
   ]
  },
  {
   "cell_type": "code",
   "execution_count": 7,
   "metadata": {},
   "outputs": [
    {
     "data": {
      "text/plain": [
       "60     0\n",
       "61     1\n",
       "62     2\n",
       "63     3\n",
       "64     4\n",
       "65     5\n",
       "66     6\n",
       "67     7\n",
       "68     8\n",
       "69     9\n",
       "70    10\n",
       "71    11\n",
       "72    12\n",
       "73    13\n",
       "74    14\n",
       "75    15\n",
       "76    16\n",
       "77    17\n",
       "78    18\n",
       "79    19\n",
       "dtype: int32"
      ]
     },
     "execution_count": 7,
     "metadata": {},
     "output_type": "execute_result"
    }
   ],
   "source": [
    "#通过numpy 创建Series\n",
    "import numpy as np \n",
    "\n",
    "n=pd.Series(np.arange(20),index=np.arange(60,80))\n",
    "n"
   ]
  },
  {
   "cell_type": "code",
   "execution_count": 10,
   "metadata": {},
   "outputs": [
    {
     "name": "stdout",
     "output_type": "stream",
     "text": [
      "3           5\n",
      "67    wnagkai\n",
      "北京         中国\n",
      "dtype: object\n"
     ]
    }
   ],
   "source": [
    "#通过字典创建Series\n",
    "ui={3:5,67:'wnagkai','北京':'中国'}\n",
    "u=pd.Series(ui)\n",
    "print(u)"
   ]
  }
 ],
 "metadata": {
  "kernelspec": {
   "display_name": "Python 3",
   "language": "python",
   "name": "python3"
  },
  "language_info": {
   "codemirror_mode": {
    "name": "ipython",
    "version": 3
   },
   "file_extension": ".py",
   "mimetype": "text/x-python",
   "name": "python",
   "nbconvert_exporter": "python",
   "pygments_lexer": "ipython3",
   "version": "3.7.6"
  }
 },
 "nbformat": 4,
 "nbformat_minor": 4
}

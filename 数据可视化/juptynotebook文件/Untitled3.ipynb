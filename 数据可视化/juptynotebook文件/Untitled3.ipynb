{
 "cells": [
  {
   "cell_type": "code",
   "execution_count": 82,
   "metadata": {},
   "outputs": [
    {
     "name": "stdout",
     "output_type": "stream",
     "text": [
      "[81, 65, 53, 45, 41]\n"
     ]
    }
   ],
   "source": [
    "import numpy as np#导入numpy库并配置一个别名np\n",
    "#传统的python语法\n",
    "def pysum():\n",
    "    a=[0,1,2,3,4]\n",
    "    b=[9,8,7,6,5]\n",
    "    c=[]\n",
    "    for i in range(len(a)):\n",
    "        c.append(a[i]**2+b[i]**2)\n",
    "    return c\n",
    "print(pysum())\n",
    "\n",
    "\n"
   ]
  },
  {
   "cell_type": "code",
   "execution_count": 3,
   "metadata": {},
   "outputs": [
    {
     "name": "stdout",
     "output_type": "stream",
     "text": [
      "[81, 65, 53, 45, 41]\n"
     ]
    }
   ],
   "source": [
    "#运用numpy的思想\n",
    "def npsum():\n",
    "    a=np.array([0,1,2,3,4])\n",
    "    b=np.array([9,8,7,6,5])\n",
    "    c=a**2+b**2\n",
    "    return c\n",
    "print(pysum())"
   ]
  },
  {
   "cell_type": "code",
   "execution_count": 12,
   "metadata": {},
   "outputs": [
    {
     "name": "stdout",
     "output_type": "stream",
     "text": [
      "[[  4  56 567   4]\n",
      " [ 23  54   6  78]]\n"
     ]
    }
   ],
   "source": [
    "#np.array()函数创建数组对象\n",
    "a=[4,56,567,4]\n",
    "b=[23,54,6,78]\n",
    "n=np.array([a,b])\n",
    "print(n)"
   ]
  },
  {
   "cell_type": "code",
   "execution_count": 22,
   "metadata": {},
   "outputs": [
    {
     "name": "stdout",
     "output_type": "stream",
     "text": [
      "[[ 0  1  2  3  4  5  6  7  8]\n",
      " [ 9 10 11 12 13 14 15 16 17]]\n"
     ]
    }
   ],
   "source": [
    "#np.arange()函数创建数组  只能创建一维数组\n",
    "u=np.arange(9)\n",
    "ui=np.array([np.arange(9),np.arange(9,18)])\n",
    "print(ui)\n",
    "\n"
   ]
  },
  {
   "cell_type": "code",
   "execution_count": 30,
   "metadata": {},
   "outputs": [
    {
     "name": "stdout",
     "output_type": "stream",
     "text": [
      "[[[1. 1. 1. 1.]\n",
      "  [1. 1. 1. 1.]\n",
      "  [1. 1. 1. 1.]]\n",
      "\n",
      " [[1. 1. 1. 1.]\n",
      "  [1. 1. 1. 1.]\n",
      "  [1. 1. 1. 1.]]]\n",
      "------分割线------\n",
      "[[[0. 0. 0.]\n",
      "  [0. 0. 0.]\n",
      "  [0. 0. 0.]]\n",
      "\n",
      " [[0. 0. 0.]\n",
      "  [0. 0. 0.]\n",
      "  [0. 0. 0.]]\n",
      "\n",
      " [[0. 0. 0.]\n",
      "  [0. 0. 0.]\n",
      "  [0. 0. 0.]]]\n"
     ]
    }
   ],
   "source": [
    "#np.ones()  np.zeros() np.full(shape,val) np.eye()\n",
    "u2=np.ones((2,3,4))\n",
    "print(u2)\n",
    "print('------分割线------')\n",
    "u3=np.zeros((3,3,3))\n",
    "print(u3)"
   ]
  },
  {
   "cell_type": "code",
   "execution_count": 35,
   "metadata": {},
   "outputs": [
    {
     "name": "stdout",
     "output_type": "stream",
     "text": [
      "[[26 26 26 26]\n",
      " [26 26 26 26]\n",
      " [26 26 26 26]]\n",
      "------分割线------\n",
      "[[1. 0. 0. 0.]\n",
      " [0. 1. 0. 0.]\n",
      " [0. 0. 1. 0.]\n",
      " [0. 0. 0. 1.]]\n",
      "------分割线------\n",
      "[[26. 26. 26. 26.]\n",
      " [26. 26. 26. 26.]\n",
      " [26. 26. 26. 26.]\n",
      " [ 1.  0.  0.  0.]\n",
      " [ 0.  1.  0.  0.]\n",
      " [ 0.  0.  1.  0.]\n",
      " [ 0.  0.  0.  1.]]\n"
     ]
    }
   ],
   "source": [
    "u4=np.full((3,4),26)\n",
    "print(u4)\n",
    "print('------分割线------')\n",
    "u5=np.eye(4)\n",
    "print(u5)\n",
    "print('------分割线------')\n",
    "u6=np.concatenate([u4,u5])#将两个或者多个数组合并为一个新的数组\n",
    "print(u6)"
   ]
  },
  {
   "cell_type": "code",
   "execution_count": 46,
   "metadata": {},
   "outputs": [
    {
     "name": "stdout",
     "output_type": "stream",
     "text": [
      "[[26. 26. 26. 26. 26. 26. 26. 26. 26. 26. 26. 26.  1.  0.]\n",
      " [ 0.  0.  0.  1.  0.  0.  0.  0.  1.  0.  0.  0.  0.  1.]]\n",
      "------分割线------\n",
      "[[26. 26. 26. 26.]\n",
      " [26. 26. 26. 26.]\n",
      " [26. 26. 26. 26.]\n",
      " [ 1.  0.  0.  0.]\n",
      " [ 0.  1.  0.  0.]\n",
      " [ 0.  0.  1.  0.]\n",
      " [ 0.  0.  0.  1.]]\n",
      "------分割线------\n",
      "[26. 26. 26. 26. 26. 26. 26. 26. 26. 26. 26. 26.  1.  0.  0.  0.  0.  1.\n",
      "  0.  0.  0.  0.  1.  0.  0.  0.  0.  1.]\n",
      "------分割线------\n",
      "[[26. 26. 26. 26. 26. 26. 26. 26. 26. 26. 26. 26.  1.  0.]\n",
      " [ 0.  0.  0.  1.  0.  0.  0.  0.  1.  0.  0.  0.  0.  1.]]\n"
     ]
    }
   ],
   "source": [
    "#ndarray数组的维度变换\n",
    "u8=u6.reshape((2,14))\n",
    "print(u8)\n",
    "print('------分割线------')\n",
    "print(u6)\n",
    "print('------分割线------')\n",
    "u9=u8.flatten()#对数组进行降维返回一维数组（不改变原数组）\n",
    "print(u9)\n",
    "print('------分割线------')\n",
    "print(u8)"
   ]
  },
  {
   "cell_type": "code",
   "execution_count": 51,
   "metadata": {},
   "outputs": [
    {
     "name": "stdout",
     "output_type": "stream",
     "text": [
      "[[ 0  1  2  3  4  5  6  7  8]\n",
      " [51 52 53 54 55 56 57 58 59]]\n",
      "<class 'list'>\n",
      "[[0, 1, 2, 3, 4, 5, 6, 7, 8], [51, 52, 53, 54, 55, 56, 57, 58, 59]]\n"
     ]
    }
   ],
   "source": [
    "#数组的拷贝和转换 new_a=a1.astype()   new_2=a.tolist()\n",
    "a1=np.array([np.arange(9),np.arange(51,60)])\n",
    "print(a1)\n",
    "a2=a1.tolist()\n",
    "print(type(a2))\n",
    "print(a2)\n"
   ]
  },
  {
   "cell_type": "code",
   "execution_count": 63,
   "metadata": {},
   "outputs": [
    {
     "name": "stdout",
     "output_type": "stream",
     "text": [
      "2\n",
      "(2, 4)\n",
      "8\n",
      "int32\n"
     ]
    }
   ],
   "source": [
    "#numpy数组的属性 n.ndim n.shape n.size n.dtype n.itemsize\n",
    "print(n.ndim)\n",
    "print(n.shape)\n",
    "print(n.size)\n",
    "print(n.dtype)"
   ]
  },
  {
   "cell_type": "code",
   "execution_count": 56,
   "metadata": {},
   "outputs": [
    {
     "name": "stdout",
     "output_type": "stream",
     "text": [
      "7\n",
      "[8 6]\n",
      "[8, 6]\n"
     ]
    }
   ],
   "source": [
    "#数组的操作 即 ；索引和切片\n",
    "#一维数组的索引与切片\n",
    "a3=np.array([9,8,7,6,5])\n",
    "print(a3[2])#索引\n",
    "print(a3[1:4:2])#切片\n",
    "print((a3[1:4:2]).tolist())"
   ]
  },
  {
   "cell_type": "code",
   "execution_count": 69,
   "metadata": {},
   "outputs": [
    {
     "name": "stdout",
     "output_type": "stream",
     "text": [
      "[[[ 0  1  2  3]\n",
      "  [ 4  5  6  7]\n",
      "  [ 8  9 10 11]]\n",
      "\n",
      " [[12 13 14 15]\n",
      "  [16 17 18 19]\n",
      "  [20 21 22 23]]]\n",
      "------分割线------\n",
      "6\n",
      "23\n",
      "17\n",
      "------分割线------\n",
      "[4 5 6]\n",
      "[[ 5  6]\n",
      " [17 18]]\n"
     ]
    }
   ],
   "source": [
    "#多维数组的索引与切片\n",
    "a4=np.arange(24).reshape((2,3,4))\n",
    "print(a4)\n",
    "print('------分割线------')\n",
    "print(a4[0,1,2])#索引\n",
    "print(a4[1,2,3])\n",
    "print(a4[1,1,1])\n",
    "print('------分割线------')\n",
    "print(a4[0,1,:3])#切片\n",
    "print(a4[:,1,1:3])\n"
   ]
  },
  {
   "cell_type": "code",
   "execution_count": 65,
   "metadata": {},
   "outputs": [
    {
     "name": "stdout",
     "output_type": "stream",
     "text": [
      "王凯旋是天才\n"
     ]
    }
   ],
   "source": [
    "print('王凯旋是天才')"
   ]
  },
  {
   "cell_type": "code",
   "execution_count": 76,
   "metadata": {},
   "outputs": [
    {
     "name": "stdout",
     "output_type": "stream",
     "text": [
      "[[[ 0  1  2  3]\n",
      "  [ 4  5  6  7]\n",
      "  [ 8  9 10 11]]\n",
      "\n",
      " [[12 13 14 15]\n",
      "  [16 17 18 19]\n",
      "  [20 21 22 23]]]\n",
      "------分割线------\n",
      "[[[ 0  2  4  6]\n",
      "  [ 8 10 12 14]\n",
      "  [16 18 20 22]]\n",
      "\n",
      " [[24 26 28 30]\n",
      "  [32 34 36 38]\n",
      "  [40 42 44 46]]]\n",
      "------分割线------\n",
      "[[[  0   1   4   9]\n",
      "  [ 16  25  36  49]\n",
      "  [ 64  81 100 121]]\n",
      "\n",
      " [[144 169 196 225]\n",
      "  [256 289 324 361]\n",
      "  [400 441 484 529]]]\n",
      "------分割线------\n",
      "11.5\n",
      "------分割线------\n",
      "[[[ 0  1  2  3]\n",
      "  [ 4  5  6  7]\n",
      "  [ 8  9 10 11]]\n",
      "\n",
      " [[12 13 14 15]\n",
      "  [16 17 18 19]\n",
      "  [20 21 22 23]]]\n"
     ]
    }
   ],
   "source": [
    "#数组的运算  一元函数\n",
    "n=np.arange(24).reshape((2,3,4))\n",
    "print(n)\n",
    "print('------分割线------')\n",
    "print(n*2)\n",
    "print('------分割线------')\n",
    "print(np.square(n))#计算数组各元素的平方值\n",
    "print('------分割线------')\n",
    "print(np.mean(n))#计算数组各元素的平均值\n",
    "print('------分割线------')\n",
    "print(np.abs(n))\n"
   ]
  },
  {
   "cell_type": "code",
   "execution_count": 79,
   "metadata": {},
   "outputs": [
    {
     "name": "stdout",
     "output_type": "stream",
     "text": [
      "[[[ 0  1  2]\n",
      "  [ 3  4  5]]\n",
      "\n",
      " [[ 6  7  8]\n",
      "  [ 9 10 11]]]\n",
      "[[[0.         1.         1.41421356]\n",
      "  [1.73205081 2.         2.23606798]]\n",
      "\n",
      " [[2.44948974 2.64575131 2.82842712]\n",
      "  [3.         3.16227766 3.31662479]]]\n",
      "------分割线------\n",
      "[[[False False False]\n",
      "  [False False False]]\n",
      "\n",
      " [[False False False]\n",
      "  [False False False]]]\n"
     ]
    }
   ],
   "source": [
    "#数组的运算二元函数\n",
    "ji=np.arange(12).reshape(2,2,3)\n",
    "ji2=np.sqrt(ji)\n",
    "print(ji)\n",
    "print(ji2)\n",
    "print('------分割线------')\n",
    "print(ji<ji2)"
   ]
  },
  {
   "cell_type": "code",
   "execution_count": 91,
   "metadata": {},
   "outputs": [
    {
     "name": "stdout",
     "output_type": "stream",
     "text": [
      "写入成功\n"
     ]
    }
   ],
   "source": [
    "#csv文件的存储\n",
    "a9=np.arange(24).reshape(4,6)\n",
    "np.savetxt(\"C:\\\\Users\\86666\\Desktop\\python文件处理\\9.csv\",a9,fmt='%d',delimiter=',')\n",
    "print('写入成功')"
   ]
  },
  {
   "cell_type": "code",
   "execution_count": 93,
   "metadata": {},
   "outputs": [
    {
     "name": "stdout",
     "output_type": "stream",
     "text": [
      "[[ 0  1  2  3  4  5]\n",
      " [ 6  7  8  9 10 11]\n",
      " [12 13 14 15 16 17]\n",
      " [18 19 20 21 22 23]]\n"
     ]
    }
   ],
   "source": [
    "#csv文件的读取\n",
    "wenjian=np.loadtxt('C:\\\\Users\\86666\\Desktop\\python文件处理\\9.csv',dtype=np.int32,delimiter=',')\n",
    "print(wenjian)"
   ]
  },
  {
   "cell_type": "code",
   "execution_count": 103,
   "metadata": {},
   "outputs": [
    {
     "name": "stdout",
     "output_type": "stream",
     "text": [
      "写入成功\n"
     ]
    }
   ],
   "source": [
    "#多维数组的储存\n",
    "hu=np.arange(36).reshape(2,3,6)\n",
    "hu.tofile('C:\\\\Users\\86666\\Desktop\\python文件处理\\qw.dat',sep=',',format='%d')\n",
    "print('写入成功')"
   ]
  },
  {
   "cell_type": "code",
   "execution_count": 108,
   "metadata": {},
   "outputs": [
    {
     "name": "stdout",
     "output_type": "stream",
     "text": [
      "[[[ 0  1  2  3  4  5]\n",
      "  [ 6  7  8  9 10 11]\n",
      "  [12 13 14 15 16 17]]\n",
      "\n",
      " [[18 19 20 21 22 23]\n",
      "  [24 25 26 27 28 29]\n",
      "  [30 31 32 33 34 35]]]\n"
     ]
    }
   ],
   "source": [
    "#多维数组的读取\n",
    "shu=np.fromfile('C:\\\\Users\\86666\\Desktop\\python文件处理\\qw.dat',dtype=int,sep=',').reshape(hu.shape)\n",
    "print(shu)"
   ]
  },
  {
   "cell_type": "code",
   "execution_count": 116,
   "metadata": {},
   "outputs": [
    {
     "name": "stdout",
     "output_type": "stream",
     "text": [
      "[[ 0  1  2  3  4  5]\n",
      " [ 6  7  8  9 10 11]]\n",
      "保存成功\n"
     ]
    }
   ],
   "source": [
    "#numpy数组便捷的读取方法\n",
    "u=np.arange(12).reshape(2,6)\n",
    "print(u)\n",
    "#保存 np.save()\n",
    "np.save('C:\\\\Users\\86666\\Desktop\\python文件处理\\wenjian.npy',u)\n",
    "print('保存成功')"
   ]
  },
  {
   "cell_type": "code",
   "execution_count": 117,
   "metadata": {},
   "outputs": [
    {
     "name": "stdout",
     "output_type": "stream",
     "text": [
      "[[ 0  1  2  3  4  5]\n",
      " [ 6  7  8  9 10 11]]\n"
     ]
    }
   ],
   "source": [
    "#读取\n",
    "ji3=np.load('C:\\\\Users\\86666\\Desktop\\python文件处理\\wenjian.npy')\n",
    "print(ji3)"
   ]
  },
  {
   "cell_type": "code",
   "execution_count": 118,
   "metadata": {},
   "outputs": [
    {
     "name": "stdout",
     "output_type": "stream",
     "text": [
      "[[9 2 6 6 2]\n",
      " [9 8 9 7 9]]\n"
     ]
    }
   ],
   "source": [
    "h1=np.random.randint(1,10,(2,5))#np.random.randint(low,high,shape)返回shape形状的数组，取值在low到high范围内不包含high\n",
    "print(h1)"
   ]
  },
  {
   "cell_type": "code",
   "execution_count": 120,
   "metadata": {},
   "outputs": [
    {
     "name": "stdout",
     "output_type": "stream",
     "text": [
      "[[[0.80660863 0.07148294 0.58898961 0.80075252]\n",
      "  [0.51304242 0.44267427 0.33170935 0.77407807]\n",
      "  [0.97560829 0.57057768 0.98340317 0.6795504 ]]\n",
      "\n",
      " [[0.07133507 0.47110239 0.73087175 0.4484299 ]\n",
      "  [0.74182851 0.26654931 0.9085308  0.70901756]\n",
      "  [0.28400963 0.02020862 0.80002886 0.48409791]]]\n"
     ]
    }
   ],
   "source": [
    "h2=np.random.rand(2,3,4)#返回shape形状的数组，随机数均匀分布，疯不范围为0~1不包含1\n",
    "print(h2)"
   ]
  },
  {
   "cell_type": "code",
   "execution_count": 123,
   "metadata": {},
   "outputs": [
    {
     "data": {
      "text/plain": [
       "array([[[-1.1917961 ,  0.81738878],\n",
       "        [ 0.22580124,  0.70215689],\n",
       "        [-0.10868319, -0.54130099],\n",
       "        [-0.76359251,  0.34694467],\n",
       "        [ 0.44666535, -1.20524731],\n",
       "        [ 0.74106358,  1.28515353],\n",
       "        [-0.42427781, -0.85128507],\n",
       "        [ 0.39206988, -1.00653362],\n",
       "        [-0.61646915,  1.81817458],\n",
       "        [ 1.1717419 ,  0.75461763]]])"
      ]
     },
     "execution_count": 123,
     "metadata": {},
     "output_type": "execute_result"
    }
   ],
   "source": [
    "h3=np.random.randn(1,10,2)#根据shape返回正态分布的数组\n",
    "h3"
   ]
  },
  {
   "cell_type": "code",
   "execution_count": null,
   "metadata": {},
   "outputs": [],
   "source": [
    "h4=np.random.choice()"
   ]
  },
  {
   "cell_type": "code",
   "execution_count": 130,
   "metadata": {},
   "outputs": [
    {
     "name": "stdout",
     "output_type": "stream",
     "text": [
      "630\n",
      "0\n",
      "35\n",
      "35\n"
     ]
    }
   ],
   "source": [
    "#numpy统计函数 \n",
    "u=np.arange(36).reshape(2,3,6)\n",
    "print(np.sum(u))#计算数组所有元素的和\n",
    "print(np.min(u))\n",
    "print(np.max(u))\n",
    "print(np.ptp(u))\n"
   ]
  },
  {
   "cell_type": "code",
   "execution_count": 134,
   "metadata": {},
   "outputs": [
    {
     "name": "stdout",
     "output_type": "stream",
     "text": [
      "[ 4  3 19  9 11]\n",
      "[-1.   7.5  3.  -4.   2. ]\n"
     ]
    }
   ],
   "source": [
    "#numpy的梯度函数\n",
    "ji=np.random.randint(0,20,(5))\n",
    "print(ji)\n",
    "print(np.gradient(ji))"
   ]
  }
 ],
 "metadata": {
  "kernelspec": {
   "display_name": "Python 3",
   "language": "python",
   "name": "python3"
  },
  "language_info": {
   "codemirror_mode": {
    "name": "ipython",
    "version": 3
   },
   "file_extension": ".py",
   "mimetype": "text/x-python",
   "name": "python",
   "nbconvert_exporter": "python",
   "pygments_lexer": "ipython3",
   "version": "3.7.6"
  }
 },
 "nbformat": 4,
 "nbformat_minor": 4
}

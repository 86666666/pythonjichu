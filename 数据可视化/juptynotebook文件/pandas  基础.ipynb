{
 "cells": [
  {
   "cell_type": "code",
   "execution_count": 19,
   "metadata": {},
   "outputs": [
    {
     "data": {
      "text/plain": [
       "<function matplotlib.pyplot.plot(*args, scalex=True, scaley=True, data=None, **kwargs)>"
      ]
     },
     "execution_count": 19,
     "metadata": {},
     "output_type": "execute_result"
    }
   ],
   "source": [
    "import matplotlib.pyplot as plt\n",
    "import matplotlib\n",
    "import numpy as np\n",
    "matplotlib.rcParams['font.family']='Simhei'#更改中文字体\n",
    "plt.plot\n"
   ]
  },
  {
   "cell_type": "markdown",
   "metadata": {},
   "source": [
    "# pandas"
   ]
  },
  {
   "cell_type": "code",
   "execution_count": 1,
   "metadata": {},
   "outputs": [
    {
     "name": "stdout",
     "output_type": "stream",
     "text": [
      "a    2\n",
      "b    3\n",
      "c    4\n",
      "d    5\n",
      "dtype: int64\n",
      "['a', 'b', 'c', 'd']\n",
      "[2, 3, 4, 5]\n"
     ]
    }
   ],
   "source": [
    "import pandas as pd\n",
    "d=pd.Series(range(20))\n",
    "#列表创建series\n",
    "a=pd.Series([2,3,4,5],index=['a','b','c','d'])#index自定义索引\n",
    "print(a)\n",
    "print(list(a.index))\n",
    "print(list(a.values))\n",
    "\n"
   ]
  },
  {
   "cell_type": "code",
   "execution_count": 14,
   "metadata": {},
   "outputs": [
    {
     "name": "stdout",
     "output_type": "stream",
     "text": [
      "a    24\n",
      "c     4\n",
      "b    52\n",
      "d     4\n",
      "dtype: int64\n",
      "a     4.0\n",
      "b    52.0\n",
      "d     NaN\n",
      "c     4.0\n",
      "dtype: float64\n",
      "24\n",
      "24\n"
     ]
    }
   ],
   "source": [
    "#字典创建sseries\n",
    "c=pd.Series({'a':24,'c':4,'b':52,'d':4})\n",
    "print(c)\n",
    "print(pd.Series({'a':24,'c':4,'b':52,'a':4},index=['a','b','d','c']))\n",
    "#c.values#获得数据\n",
    "#c.index#获得索引\n",
    "print(c['a'])  #自动索引和自定义索引并存\n",
    "print(c[0])\n"
   ]
  },
  {
   "cell_type": "code",
   "execution_count": 22,
   "metadata": {},
   "outputs": [
    {
     "name": "stdout",
     "output_type": "stream",
     "text": [
      "a    9\n",
      "b    8\n",
      "d    7\n",
      "d    6\n",
      "dtype: int64\n",
      "b    8\n",
      "d    7\n",
      "d    6\n",
      "dtype: int64\n",
      "a    9\n",
      "b    8\n",
      "dtype: int64\n",
      "王凯旋是天才\n"
     ]
    }
   ],
   "source": [
    "a1=pd.Series([9,8,7,6],['a','b','d','d'])\n",
    "print(a1)\n",
    "print(a1[1:4])\n",
    "print(a1[a1>a1.median()])#切片出series中大于数组平均数的值\n",
    "\n",
    "if a1.get('a'):\n",
    "    print('王凯旋是天才') #运用了字典的get方法\n"
   ]
  },
  {
   "cell_type": "markdown",
   "metadata": {},
   "source": [
    "# series对象的修改\n",
    "series对象可以随时修改并即刻生效"
   ]
  },
  {
   "cell_type": "code",
   "execution_count": 28,
   "metadata": {},
   "outputs": [
    {
     "name": "stdout",
     "output_type": "stream",
     "text": [
      "索引列\n",
      "a    9\n",
      "b    8\n",
      "c    7\n",
      "d    6\n",
      "Name: series对象, dtype: int64\n",
      "索引列\n",
      "a    89\n",
      "b     8\n",
      "c     7\n",
      "d     6\n",
      "Name: series对象, dtype: int64\n"
     ]
    }
   ],
   "source": [
    "a2=pd.Series([9,8,7,6],['a','b','c','d'])\n",
    "a2.name='series对象'\n",
    "a2.index.name='索引列'\n",
    "print(a2)\n",
    "a2['a']=89#series对象可以随时直接赋值修改并即刻生效\n",
    "print(a2)\n"
   ]
  },
  {
   "cell_type": "code",
   "execution_count": null,
   "metadata": {},
   "outputs": [],
   "source": [
    "dateframe类型"
   ]
  },
  {
   "cell_type": "code",
   "execution_count": 23,
   "metadata": {},
   "outputs": [
    {
     "data": {
      "text/html": [
       "<div>\n",
       "<style scoped>\n",
       "    .dataframe tbody tr th:only-of-type {\n",
       "        vertical-align: middle;\n",
       "    }\n",
       "\n",
       "    .dataframe tbody tr th {\n",
       "        vertical-align: top;\n",
       "    }\n",
       "\n",
       "    .dataframe thead th {\n",
       "        text-align: right;\n",
       "    }\n",
       "</style>\n",
       "<table border=\"1\" class=\"dataframe\">\n",
       "  <thead>\n",
       "    <tr style=\"text-align: right;\">\n",
       "      <th></th>\n",
       "      <th>a</th>\n",
       "      <th>b</th>\n",
       "      <th>c</th>\n",
       "      <th>d</th>\n",
       "    </tr>\n",
       "  </thead>\n",
       "  <tbody>\n",
       "    <tr>\n",
       "      <th>南京</th>\n",
       "      <td>0</td>\n",
       "      <td>1</td>\n",
       "      <td>2</td>\n",
       "      <td>3</td>\n",
       "    </tr>\n",
       "    <tr>\n",
       "      <th>天津</th>\n",
       "      <td>4</td>\n",
       "      <td>5</td>\n",
       "      <td>6</td>\n",
       "      <td>7</td>\n",
       "    </tr>\n",
       "    <tr>\n",
       "      <th>北京</th>\n",
       "      <td>8</td>\n",
       "      <td>9</td>\n",
       "      <td>10</td>\n",
       "      <td>11</td>\n",
       "    </tr>\n",
       "  </tbody>\n",
       "</table>\n",
       "</div>"
      ],
      "text/plain": [
       "    a  b   c   d\n",
       "南京  0  1   2   3\n",
       "天津  4  5   6   7\n",
       "北京  8  9  10  11"
      ]
     },
     "execution_count": 23,
     "metadata": {},
     "output_type": "execute_result"
    }
   ],
   "source": [
    "import numpy as np\n",
    "de=pd.DataFrame(np.arange(12).reshape(3,4),index=['南京','天津','北京',],columns=['a','b','c','d'])#从二维ndarray数组创建\n",
    "de"
   ]
  },
  {
   "cell_type": "code",
   "execution_count": 42,
   "metadata": {},
   "outputs": [
    {
     "name": "stdout",
     "output_type": "stream",
     "text": [
      "    a  b   c   d   东北\n",
      "北京  8  9  10  11  王凯旋\n",
      "天津  4  5   6   7  王凯旋\n",
      "南京  0  1   2   3  王凯旋\n"
     ]
    },
    {
     "data": {
      "text/plain": [
       "北京    8\n",
       "天津    4\n",
       "南京    0\n",
       "Name: a, dtype: int32"
      ]
     },
     "execution_count": 42,
     "metadata": {},
     "output_type": "execute_result"
    }
   ],
   "source": [
    "de=de.reindex(index=['北京','天津','南京'])#.reindex方法重排或者改变索引\n",
    "new=de.columns.insert(4,'东北')\n",
    "d=de.reindex(columns=new,fill_value='王凯旋')\n",
    "print(d)\n",
    "d['a']\n"
   ]
  },
  {
   "cell_type": "code",
   "execution_count": 32,
   "metadata": {},
   "outputs": [
    {
     "data": {
      "text/html": [
       "<div>\n",
       "<style scoped>\n",
       "    .dataframe tbody tr th:only-of-type {\n",
       "        vertical-align: middle;\n",
       "    }\n",
       "\n",
       "    .dataframe tbody tr th {\n",
       "        vertical-align: top;\n",
       "    }\n",
       "\n",
       "    .dataframe thead th {\n",
       "        text-align: right;\n",
       "    }\n",
       "</style>\n",
       "<table border=\"1\" class=\"dataframe\">\n",
       "  <thead>\n",
       "    <tr style=\"text-align: right;\">\n",
       "      <th></th>\n",
       "      <th>ONE</th>\n",
       "      <th>TWO</th>\n",
       "    </tr>\n",
       "  </thead>\n",
       "  <tbody>\n",
       "    <tr>\n",
       "      <th>a</th>\n",
       "      <td>1.0</td>\n",
       "      <td>9</td>\n",
       "    </tr>\n",
       "    <tr>\n",
       "      <th>b</th>\n",
       "      <td>2.0</td>\n",
       "      <td>8</td>\n",
       "    </tr>\n",
       "    <tr>\n",
       "      <th>c</th>\n",
       "      <td>3.0</td>\n",
       "      <td>7</td>\n",
       "    </tr>\n",
       "    <tr>\n",
       "      <th>d</th>\n",
       "      <td>NaN</td>\n",
       "      <td>6</td>\n",
       "    </tr>\n",
       "  </tbody>\n",
       "</table>\n",
       "</div>"
      ],
      "text/plain": [
       "   ONE  TWO\n",
       "a  1.0    9\n",
       "b  2.0    8\n",
       "c  3.0    7\n",
       "d  NaN    6"
      ]
     },
     "execution_count": 32,
     "metadata": {},
     "output_type": "execute_result"
    }
   ],
   "source": [
    "#从series类型构成的字典创建\n",
    "d={'ONE':pd.Series([1,2,3],index=['a','b','c']),'TWO':pd.Series([9,8,7,6],['a','b','c','d'])}\n",
    "dt=pd.DataFrame(d)\n",
    "dt"
   ]
  },
  {
   "cell_type": "code",
   "execution_count": 4,
   "metadata": {},
   "outputs": [
    {
     "name": "stdout",
     "output_type": "stream",
     "text": [
      "地区  城市     环比     同比     定基\n",
      "数据                         \n",
      "0   北京  101.5  120.7  121.4\n",
      "1   上海  101.2  127.3  127.8\n",
      "2   广州  101.3  119.4  120.0\n",
      "3   深圳  102.0  140.9  145.5\n",
      "4   沈阳  100.1  101.4  101.6\n",
      "-----分割线------\n"
     ]
    },
    {
     "data": {
      "text/html": [
       "<div>\n",
       "<style scoped>\n",
       "    .dataframe tbody tr th:only-of-type {\n",
       "        vertical-align: middle;\n",
       "    }\n",
       "\n",
       "    .dataframe tbody tr th {\n",
       "        vertical-align: top;\n",
       "    }\n",
       "\n",
       "    .dataframe thead th {\n",
       "        text-align: right;\n",
       "    }\n",
       "</style>\n",
       "<table border=\"1\" class=\"dataframe\">\n",
       "  <thead>\n",
       "    <tr style=\"text-align: right;\">\n",
       "      <th>地区</th>\n",
       "      <th>城市</th>\n",
       "      <th>同比</th>\n",
       "      <th>定基</th>\n",
       "    </tr>\n",
       "    <tr>\n",
       "      <th>环比</th>\n",
       "      <th></th>\n",
       "      <th></th>\n",
       "      <th></th>\n",
       "    </tr>\n",
       "  </thead>\n",
       "  <tbody>\n",
       "    <tr>\n",
       "      <th>101.5</th>\n",
       "      <td>北京</td>\n",
       "      <td>120.7</td>\n",
       "      <td>121.4</td>\n",
       "    </tr>\n",
       "    <tr>\n",
       "      <th>101.2</th>\n",
       "      <td>上海</td>\n",
       "      <td>127.3</td>\n",
       "      <td>127.8</td>\n",
       "    </tr>\n",
       "    <tr>\n",
       "      <th>101.3</th>\n",
       "      <td>广州</td>\n",
       "      <td>119.4</td>\n",
       "      <td>120.0</td>\n",
       "    </tr>\n",
       "    <tr>\n",
       "      <th>102.0</th>\n",
       "      <td>深圳</td>\n",
       "      <td>140.9</td>\n",
       "      <td>145.5</td>\n",
       "    </tr>\n",
       "    <tr>\n",
       "      <th>100.1</th>\n",
       "      <td>沈阳</td>\n",
       "      <td>101.4</td>\n",
       "      <td>101.6</td>\n",
       "    </tr>\n",
       "  </tbody>\n",
       "</table>\n",
       "</div>"
      ],
      "text/plain": [
       "地区     城市     同比     定基\n",
       "环比                     \n",
       "101.5  北京  120.7  121.4\n",
       "101.2  上海  127.3  127.8\n",
       "101.3  广州  119.4  120.0\n",
       "102.0  深圳  140.9  145.5\n",
       "100.1  沈阳  101.4  101.6"
      ]
     },
     "execution_count": 4,
     "metadata": {},
     "output_type": "execute_result"
    }
   ],
   "source": [
    "#有列表类型构成的字典创建的\n",
    "dt3={'城市':['北京','上海','广州','深圳','沈阳'],\n",
    "    '环比':[101.5,101.2,101.3,102.0,100.1],\n",
    "    '同比':[120.7,127.3,119.4,140.9,101.4],\n",
    "    '定基':[121.4,127.8,120.0,145.5,101.6]}\n",
    "a=pd.DataFrame(dt3)\n",
    "a.index.name='数据'\n",
    "a.columns.name='地区'\n",
    "print(a)\n",
    "print('-----分割线------')\n",
    "\n",
    "a2=a.set_index(['环比'])#将列数据转化为行数据的索引\n",
    "a2\n"
   ]
  },
  {
   "cell_type": "code",
   "execution_count": null,
   "metadata": {},
   "outputs": [],
   "source": []
  },
  {
   "cell_type": "code",
   "execution_count": 36,
   "metadata": {},
   "outputs": [
    {
     "data": {
      "text/html": [
       "<div>\n",
       "<style scoped>\n",
       "    .dataframe tbody tr th:only-of-type {\n",
       "        vertical-align: middle;\n",
       "    }\n",
       "\n",
       "    .dataframe tbody tr th {\n",
       "        vertical-align: top;\n",
       "    }\n",
       "\n",
       "    .dataframe thead th {\n",
       "        text-align: right;\n",
       "    }\n",
       "</style>\n",
       "<table border=\"1\" class=\"dataframe\">\n",
       "  <thead>\n",
       "    <tr style=\"text-align: right;\">\n",
       "      <th></th>\n",
       "      <th>环比</th>\n",
       "      <th>同比</th>\n",
       "      <th>定基</th>\n",
       "    </tr>\n",
       "  </thead>\n",
       "  <tbody>\n",
       "    <tr>\n",
       "      <th>count</th>\n",
       "      <td>5.000000</td>\n",
       "      <td>5.000000</td>\n",
       "      <td>5.000000</td>\n",
       "    </tr>\n",
       "    <tr>\n",
       "      <th>mean</th>\n",
       "      <td>101.220000</td>\n",
       "      <td>121.940000</td>\n",
       "      <td>123.260000</td>\n",
       "    </tr>\n",
       "    <tr>\n",
       "      <th>std</th>\n",
       "      <td>0.697854</td>\n",
       "      <td>14.301154</td>\n",
       "      <td>15.799304</td>\n",
       "    </tr>\n",
       "    <tr>\n",
       "      <th>min</th>\n",
       "      <td>100.100000</td>\n",
       "      <td>101.400000</td>\n",
       "      <td>101.600000</td>\n",
       "    </tr>\n",
       "    <tr>\n",
       "      <th>25%</th>\n",
       "      <td>101.200000</td>\n",
       "      <td>119.400000</td>\n",
       "      <td>120.000000</td>\n",
       "    </tr>\n",
       "    <tr>\n",
       "      <th>50%</th>\n",
       "      <td>101.300000</td>\n",
       "      <td>120.700000</td>\n",
       "      <td>121.400000</td>\n",
       "    </tr>\n",
       "    <tr>\n",
       "      <th>75%</th>\n",
       "      <td>101.500000</td>\n",
       "      <td>127.300000</td>\n",
       "      <td>127.800000</td>\n",
       "    </tr>\n",
       "    <tr>\n",
       "      <th>max</th>\n",
       "      <td>102.000000</td>\n",
       "      <td>140.900000</td>\n",
       "      <td>145.500000</td>\n",
       "    </tr>\n",
       "  </tbody>\n",
       "</table>\n",
       "</div>"
      ],
      "text/plain": [
       "               环比          同比          定基\n",
       "count    5.000000    5.000000    5.000000\n",
       "mean   101.220000  121.940000  123.260000\n",
       "std      0.697854   14.301154   15.799304\n",
       "min    100.100000  101.400000  101.600000\n",
       "25%    101.200000  119.400000  120.000000\n",
       "50%    101.300000  120.700000  121.400000\n",
       "75%    101.500000  127.300000  127.800000\n",
       "max    102.000000  140.900000  145.500000"
      ]
     },
     "execution_count": 36,
     "metadata": {},
     "output_type": "execute_result"
    }
   ],
   "source": [
    "a.describe()"
   ]
  },
  {
   "cell_type": "markdown",
   "metadata": {},
   "source": [
    "# DataFrame类型的数据的索引选取"
   ]
  },
  {
   "cell_type": "code",
   "execution_count": 34,
   "metadata": {},
   "outputs": [
    {
     "name": "stdout",
     "output_type": "stream",
     "text": [
      "   城市     环比     定基     同比\n",
      "a  北京  101.5  121.4  120.7\n",
      "b  上海  101.2  127.8  127.3\n",
      "c  广州  101.3  120.0  119.4\n",
      "d  深圳  102.0  145.5  140.9\n",
      "e  沈阳  100.1  101.6  101.4\n",
      "-----分割线------\n",
      "a    北京\n",
      "b    上海\n",
      "c    广州\n",
      "Name: 城市, dtype: object\n",
      "-----分割线------\n",
      "a    北京\n",
      "b    上海\n",
      "c    广州\n",
      "d    深圳\n",
      "e    沈阳\n",
      "Name: 城市, dtype: object\n",
      "-----分割线------\n",
      "城市       北京\n",
      "环比    101.5\n",
      "定基    121.4\n",
      "同比    120.7\n",
      "Name: a, dtype: object\n",
      "-----分割线------\n",
      "   城市     环比     定基     同比\n",
      "a  北京  101.5  121.4  120.7\n",
      "b  上海  101.2  127.8  127.3\n",
      "c  广州  101.3  120.0  119.4\n",
      "d  深圳  102.0  145.5  140.9\n",
      "-----分割线------\n",
      "上海\n",
      "-----分割线------\n",
      "城市       广州\n",
      "环比    101.3\n",
      "定基      120\n",
      "Name: c, dtype: object\n"
     ]
    }
   ],
   "source": [
    "\n",
    "u=pd.DataFrame(dt3,index=['a','b','c','d','e'],columns=['城市','环比','定基','同比'])\n",
    "print(u)\n",
    "print('-----分割线------')\n",
    "print(u['城市'][0:3])#获取某一列的数据\n",
    "print('-----分割线------')\n",
    "print(u['城市'])#获取某一列的数据\n",
    "print('-----分割线------')\n",
    "print(u.loc['a'])#获取某一行的数据\n",
    "print('-----分割线------')\n",
    "print(u.loc['a':'d'])#获取某几行的数据\n",
    "print('-----分割线------')\n",
    "print(u.loc['b','城市'])#获取某一行中某一列的数据\n",
    "print('-----分割线------')\n",
    "print(u.loc['c','城市':'定基'])#获取某一行中的某几列的数据"
   ]
  },
  {
   "cell_type": "markdown",
   "metadata": {},
   "source": [
    "# DataFrame索引的操作"
   ]
  },
  {
   "cell_type": "code",
   "execution_count": 16,
   "metadata": {},
   "outputs": [
    {
     "name": "stdout",
     "output_type": "stream",
     "text": [
      "   城市     环比     同比     定基\n",
      "0  北京  101.5  120.7  121.4\n",
      "1  上海  101.2  127.3  127.8\n",
      "2  广州  101.3  119.4  120.0\n",
      "3  深圳  102.0  140.9  145.5\n",
      "4  沈阳  100.1  101.4  101.6\n",
      "-----分割线------\n",
      "   城市     环比     同比     定基               价格\n",
      "0  北京  101.5  120.7  121.4  [9, 8, 7, 6, 5]\n",
      "1  上海  101.2  127.3  127.8  [9, 8, 7, 6, 5]\n",
      "2  广州  101.3  119.4  120.0  [9, 8, 7, 6, 5]\n",
      "3  深圳  102.0  140.9  145.5  [9, 8, 7, 6, 5]\n",
      "4  沈阳  100.1  101.4  101.6  [9, 8, 7, 6, 5]\n"
     ]
    }
   ],
   "source": [
    "#有列表类型构成的字典创建的\n",
    "dt3={'城市':['北京','上海','广州','深圳','沈阳'],\n",
    "    '环比':[101.5,101.2,101.3,102.0,100.1],\n",
    "    '同比':[120.7,127.3,119.4,140.9,101.4],\n",
    "    '定基':[121.4,127.8,120.0,145.5,101.6]}\n",
    "a3=pd.DataFrame(dt3)\n",
    "print(a3)\n",
    "print('-----分割线------')\n",
    "r=a3.columns.insert(4,'价格')#通过对索引的操作增加一列\n",
    "a9=[9,8,7,6,5]\n",
    "a3=a3.reindex(columns=r,fill_value=a9)\n",
    "print(a3)"
   ]
  },
  {
   "cell_type": "code",
   "execution_count": 17,
   "metadata": {},
   "outputs": [
    {
     "data": {
      "text/html": [
       "<div>\n",
       "<style scoped>\n",
       "    .dataframe tbody tr th:only-of-type {\n",
       "        vertical-align: middle;\n",
       "    }\n",
       "\n",
       "    .dataframe tbody tr th {\n",
       "        vertical-align: top;\n",
       "    }\n",
       "\n",
       "    .dataframe thead th {\n",
       "        text-align: right;\n",
       "    }\n",
       "</style>\n",
       "<table border=\"1\" class=\"dataframe\">\n",
       "  <thead>\n",
       "    <tr style=\"text-align: right;\">\n",
       "      <th></th>\n",
       "      <th>城市</th>\n",
       "      <th>环比</th>\n",
       "      <th>定基</th>\n",
       "      <th>价格</th>\n",
       "    </tr>\n",
       "  </thead>\n",
       "  <tbody>\n",
       "    <tr>\n",
       "      <th>0</th>\n",
       "      <td>北京</td>\n",
       "      <td>101.5</td>\n",
       "      <td>121.4</td>\n",
       "      <td>[9, 8, 7, 6, 5]</td>\n",
       "    </tr>\n",
       "    <tr>\n",
       "      <th>1</th>\n",
       "      <td>上海</td>\n",
       "      <td>101.2</td>\n",
       "      <td>127.8</td>\n",
       "      <td>[9, 8, 7, 6, 5]</td>\n",
       "    </tr>\n",
       "    <tr>\n",
       "      <th>2</th>\n",
       "      <td>广州</td>\n",
       "      <td>101.3</td>\n",
       "      <td>120.0</td>\n",
       "      <td>[9, 8, 7, 6, 5]</td>\n",
       "    </tr>\n",
       "    <tr>\n",
       "      <th>3</th>\n",
       "      <td>深圳</td>\n",
       "      <td>102.0</td>\n",
       "      <td>145.5</td>\n",
       "      <td>[9, 8, 7, 6, 5]</td>\n",
       "    </tr>\n",
       "    <tr>\n",
       "      <th>4</th>\n",
       "      <td>沈阳</td>\n",
       "      <td>100.1</td>\n",
       "      <td>101.6</td>\n",
       "      <td>[9, 8, 7, 6, 5]</td>\n",
       "    </tr>\n",
       "  </tbody>\n",
       "</table>\n",
       "</div>"
      ],
      "text/plain": [
       "   城市     环比     定基               价格\n",
       "0  北京  101.5  121.4  [9, 8, 7, 6, 5]\n",
       "1  上海  101.2  127.8  [9, 8, 7, 6, 5]\n",
       "2  广州  101.3  120.0  [9, 8, 7, 6, 5]\n",
       "3  深圳  102.0  145.5  [9, 8, 7, 6, 5]\n",
       "4  沈阳  100.1  101.6  [9, 8, 7, 6, 5]"
      ]
     },
     "execution_count": 17,
     "metadata": {},
     "output_type": "execute_result"
    }
   ],
   "source": [
    "#通过索引删除一列\n",
    "b=a3.columns.delete(2)#通过对索引的操作删除一列----同比\n",
    "b2=a3.reindex(columns=b)\n",
    "b2\n"
   ]
  },
  {
   "cell_type": "markdown",
   "metadata": {},
   "source": [
    "# pandas删除数据"
   ]
  },
  {
   "cell_type": "code",
   "execution_count": 26,
   "metadata": {},
   "outputs": [
    {
     "name": "stdout",
     "output_type": "stream",
     "text": [
      "0    0\n",
      "1    1\n",
      "2    2\n",
      "3    3\n",
      "4    4\n",
      "5    5\n",
      "dtype: int32\n",
      "-----分割线------\n",
      "0    0\n",
      "1    1\n",
      "4    4\n",
      "5    5\n",
      "dtype: int32\n",
      "0    0\n",
      "1    1\n",
      "2    2\n",
      "3    3\n",
      "4    4\n",
      "5    5\n",
      "dtype: int32\n"
     ]
    }
   ],
   "source": [
    "bb=pd.Series(np.arange(6))\n",
    "print(bb)\n",
    "print('-----分割线------')\n",
    "cc=bb.drop([2,3])#用drop删除 Series中的数据\n",
    "print(cc)\n",
    "print(bb)#源数据表并没有被修改"
   ]
  },
  {
   "cell_type": "code",
   "execution_count": 33,
   "metadata": {},
   "outputs": [
    {
     "name": "stdout",
     "output_type": "stream",
     "text": [
      "   城市     环比     同比     定基\n",
      "0  北京  101.5  120.7  121.4\n",
      "1  上海  101.2  127.3  127.8\n",
      "2  广州  101.3  119.4  120.0\n",
      "3  深圳  102.0  140.9  145.5\n",
      "4  沈阳  100.1  101.4  101.6\n",
      "-----分割线------\n",
      "   城市     环比     同比     定基\n",
      "0  北京  101.5  120.7  121.4\n",
      "1  上海  101.2  127.3  127.8\n",
      "3  深圳  102.0  140.9  145.5\n",
      "4  沈阳  100.1  101.4  101.6\n",
      "-----分割线------\n",
      "   城市     同比     定基\n",
      "0  北京  120.7  121.4\n",
      "1  上海  127.3  127.8\n",
      "2  广州  119.4  120.0\n",
      "3  深圳  140.9  145.5\n",
      "4  沈阳  101.4  101.6\n"
     ]
    }
   ],
   "source": [
    "#删除DataFrame中的数据\n",
    "dt3={'城市':['北京','上海','广州','深圳','沈阳'],\n",
    "    '环比':[101.5,101.2,101.3,102.0,100.1],\n",
    "    '同比':[120.7,127.3,119.4,140.9,101.4],\n",
    "    '定基':[121.4,127.8,120.0,145.5,101.6]}\n",
    "a3=pd.DataFrame(dt3)\n",
    "print(a3)\n",
    "print('-----分割线------')\n",
    "\n",
    "cc1=a3.drop([2])#默认删除行数据\n",
    "print(cc1)\n",
    "print('-----分割线------')\n",
    "cc2=a3.drop('环比',axis=1)#删除列数据\n",
    "print(cc2)"
   ]
  },
  {
   "cell_type": "code",
   "execution_count": null,
   "metadata": {},
   "outputs": [],
   "source": [
    "\n"
   ]
  }
 ],
 "metadata": {
  "kernelspec": {
   "display_name": "Python 3",
   "language": "python",
   "name": "python3"
  },
  "language_info": {
   "codemirror_mode": {
    "name": "ipython",
    "version": 3
   },
   "file_extension": ".py",
   "mimetype": "text/x-python",
   "name": "python",
   "nbconvert_exporter": "python",
   "pygments_lexer": "ipython3",
   "version": "3.7.6"
  }
 },
 "nbformat": 4,
 "nbformat_minor": 4
}
